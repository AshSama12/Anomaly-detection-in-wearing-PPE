{
  "nbformat": 4,
  "nbformat_minor": 0,
  "metadata": {
    "colab": {
      "provenance": [],
      "gpuType": "T4",
      "authorship_tag": "ABX9TyMAVKY+KSBmfQkvuJr3njlo",
      "include_colab_link": true
    },
    "kernelspec": {
      "name": "python3",
      "display_name": "Python 3"
    },
    "language_info": {
      "name": "python"
    },
    "accelerator": "GPU"
  },
  "cells": [
    {
      "cell_type": "markdown",
      "metadata": {
        "id": "view-in-github",
        "colab_type": "text"
      },
      "source": [
        "<a href=\"https://colab.research.google.com/github/AshSama12/Anomaly-detection-in-wearing-PPE/blob/master/Copy_of_combine_models.ipynb\" target=\"_parent\"><img src=\"https://colab.research.google.com/assets/colab-badge.svg\" alt=\"Open In Colab\"/></a>"
      ]
    },
    {
      "cell_type": "code",
      "execution_count": null,
      "metadata": {
        "colab": {
          "base_uri": "https://localhost:8080/"
        },
        "id": "Zx51ANSi1k8s",
        "outputId": "6f7abba3-8327-44f7-9134-a9640b3d951f"
      },
      "outputs": [
        {
          "output_type": "stream",
          "name": "stdout",
          "text": [
            "Mounted at /content/drive\n"
          ]
        }
      ],
      "source": [
        "from google.colab import drive\n",
        "drive. mount('/content/drive')"
      ]
    },
    {
      "cell_type": "code",
      "source": [
        "import zipfile\n",
        "import os\n",
        "\n",
        "# File paths to datasets\n",
        "ppe_dataset_path = '/content/drive/MyDrive/research2025/PPE_Annotation.v1i.yolov8-obb.zip'\n",
        "human_dataset_path = '/content/drive/MyDrive/research2025/human detection new 2.v5i.yolov8-obb.zip'\n",
        "output_dir_ppe = '/content/PPE_Annotation'\n",
        "output_dir_human = '/content/Human_Annotation'\n",
        "\n",
        "# Unzip the datasets\n",
        "for zip_path, out_dir in [(ppe_dataset_path, output_dir_ppe), (human_dataset_path, output_dir_human)]:\n",
        "    with zipfile.ZipFile(zip_path, 'r') as zip_ref:\n",
        "        zip_ref.extractall(out_dir)\n",
        "    print(f\"Extracted {zip_path} to {out_dir}\")\n"
      ],
      "metadata": {
        "colab": {
          "base_uri": "https://localhost:8080/"
        },
        "id": "-xYCVpCQ2v0F",
        "outputId": "718a25af-07d5-4809-f06f-5ad87f7d0d89"
      },
      "execution_count": null,
      "outputs": [
        {
          "output_type": "stream",
          "name": "stdout",
          "text": [
            "Extracted /content/drive/MyDrive/research2025/PPE_Annotation.v1i.yolov8-obb.zip to /content/PPE_Annotation\n",
            "Extracted /content/drive/MyDrive/research2025/human detection new 2.v5i.yolov8-obb.zip to /content/Human_Annotation\n"
          ]
        }
      ]
    },
    {
      "cell_type": "code",
      "source": [
        "import shutil\n",
        "import os\n",
        "\n",
        "# Create the directories for the merged dataset\n",
        "os.makedirs('/content/Merged_Dataset/train/images', exist_ok=True)\n",
        "os.makedirs('/content/Merged_Dataset/train/labels', exist_ok=True)\n",
        "os.makedirs('/content/Merged_Dataset/val/images', exist_ok=True)\n",
        "os.makedirs('/content/Merged_Dataset/val/labels', exist_ok=True)\n",
        "os.makedirs('/content/Merged_Dataset/test/images', exist_ok=True)\n",
        "os.makedirs('/content/Merged_Dataset/test/labels', exist_ok=True)\n",
        "\n",
        "# Define paths\n",
        "human_train_img = '/content/Human_Annotation/train/images'\n",
        "human_train_lbl = '/content/Human_Annotation/train/labels'\n",
        "ppe_train_img = '/content/PPE_Annotation/train/images'\n",
        "ppe_train_lbl = '/content/PPE_Annotation/train/labels'\n",
        "merged_train_img = '/content/Merged_Dataset/train/images'\n",
        "merged_train_lbl = '/content/Merged_Dataset/train/labels'\n",
        "\n",
        "# Copy data\n",
        "for src, dest in [\n",
        "    (human_train_img, merged_train_img),\n",
        "    (ppe_train_img, merged_train_img),\n",
        "    (human_train_lbl, merged_train_lbl),\n",
        "    (ppe_train_lbl, merged_train_lbl)\n",
        "]:\n",
        "    # Ensure the source directory exists\n",
        "    if os.path.exists(src):\n",
        "        for file_name in os.listdir(src):\n",
        "            shutil.copy(os.path.join(src, file_name), dest)\n",
        "    else:\n",
        "        print(f\"Source directory does not exist: {src}\")\n",
        "\n",
        "print(\"Data merged successfully!\")\n"
      ],
      "metadata": {
        "colab": {
          "base_uri": "https://localhost:8080/"
        },
        "id": "1viZ0tF83WcE",
        "outputId": "95588ff8-0c6c-406d-e141-67675be8262d"
      },
      "execution_count": null,
      "outputs": [
        {
          "output_type": "stream",
          "name": "stdout",
          "text": [
            "Data merged successfully!\n"
          ]
        }
      ]
    },
    {
      "cell_type": "code",
      "source": [
        "yaml_content = \"\"\"\n",
        "train: /content/Merged_Dataset/train/images\n",
        "val: /content/Merged_Dataset/val/images\n",
        "test: /content/Merged_Dataset/test/images\n",
        "\n",
        "names:\n",
        "  0: person\n",
        "  1: helmet\n",
        "  2: vest\n",
        "  3: boots\n",
        "\"\"\"\n",
        "with open('/content/Merged_Dataset/data.yaml', 'w') as yaml_file:\n",
        "    yaml_file.write(yaml_content)\n",
        "\n",
        "print(\"data.yaml created successfully!\")\n"
      ],
      "metadata": {
        "colab": {
          "base_uri": "https://localhost:8080/"
        },
        "id": "kTvXMkI53skH",
        "outputId": "5fdd8aa8-1a6b-4646-f2b0-3923af2946ae"
      },
      "execution_count": null,
      "outputs": [
        {
          "output_type": "stream",
          "name": "stdout",
          "text": [
            "data.yaml created successfully!\n"
          ]
        }
      ]
    },
    {
      "cell_type": "code",
      "source": [
        "pip install ultralytics\n"
      ],
      "metadata": {
        "colab": {
          "base_uri": "https://localhost:8080/"
        },
        "id": "ad-4g3hT4Zxo",
        "outputId": "5cdff670-dc4a-490d-ec69-59abbd54a944"
      },
      "execution_count": null,
      "outputs": [
        {
          "output_type": "stream",
          "name": "stdout",
          "text": [
            "Collecting ultralytics\n",
            "  Downloading ultralytics-8.3.65-py3-none-any.whl.metadata (35 kB)\n",
            "Requirement already satisfied: numpy>=1.23.0 in /usr/local/lib/python3.11/dist-packages (from ultralytics) (1.26.4)\n",
            "Requirement already satisfied: matplotlib>=3.3.0 in /usr/local/lib/python3.11/dist-packages (from ultralytics) (3.10.0)\n",
            "Requirement already satisfied: opencv-python>=4.6.0 in /usr/local/lib/python3.11/dist-packages (from ultralytics) (4.10.0.84)\n",
            "Requirement already satisfied: pillow>=7.1.2 in /usr/local/lib/python3.11/dist-packages (from ultralytics) (11.1.0)\n",
            "Requirement already satisfied: pyyaml>=5.3.1 in /usr/local/lib/python3.11/dist-packages (from ultralytics) (6.0.2)\n",
            "Requirement already satisfied: requests>=2.23.0 in /usr/local/lib/python3.11/dist-packages (from ultralytics) (2.32.3)\n",
            "Requirement already satisfied: scipy>=1.4.1 in /usr/local/lib/python3.11/dist-packages (from ultralytics) (1.13.1)\n",
            "Requirement already satisfied: torch>=1.8.0 in /usr/local/lib/python3.11/dist-packages (from ultralytics) (2.5.1+cu121)\n",
            "Requirement already satisfied: torchvision>=0.9.0 in /usr/local/lib/python3.11/dist-packages (from ultralytics) (0.20.1+cu121)\n",
            "Requirement already satisfied: tqdm>=4.64.0 in /usr/local/lib/python3.11/dist-packages (from ultralytics) (4.67.1)\n",
            "Requirement already satisfied: psutil in /usr/local/lib/python3.11/dist-packages (from ultralytics) (5.9.5)\n",
            "Requirement already satisfied: py-cpuinfo in /usr/local/lib/python3.11/dist-packages (from ultralytics) (9.0.0)\n",
            "Requirement already satisfied: pandas>=1.1.4 in /usr/local/lib/python3.11/dist-packages (from ultralytics) (2.2.2)\n",
            "Requirement already satisfied: seaborn>=0.11.0 in /usr/local/lib/python3.11/dist-packages (from ultralytics) (0.13.2)\n",
            "Collecting ultralytics-thop>=2.0.0 (from ultralytics)\n",
            "  Downloading ultralytics_thop-2.0.14-py3-none-any.whl.metadata (9.4 kB)\n",
            "Requirement already satisfied: contourpy>=1.0.1 in /usr/local/lib/python3.11/dist-packages (from matplotlib>=3.3.0->ultralytics) (1.3.1)\n",
            "Requirement already satisfied: cycler>=0.10 in /usr/local/lib/python3.11/dist-packages (from matplotlib>=3.3.0->ultralytics) (0.12.1)\n",
            "Requirement already satisfied: fonttools>=4.22.0 in /usr/local/lib/python3.11/dist-packages (from matplotlib>=3.3.0->ultralytics) (4.55.3)\n",
            "Requirement already satisfied: kiwisolver>=1.3.1 in /usr/local/lib/python3.11/dist-packages (from matplotlib>=3.3.0->ultralytics) (1.4.8)\n",
            "Requirement already satisfied: packaging>=20.0 in /usr/local/lib/python3.11/dist-packages (from matplotlib>=3.3.0->ultralytics) (24.2)\n",
            "Requirement already satisfied: pyparsing>=2.3.1 in /usr/local/lib/python3.11/dist-packages (from matplotlib>=3.3.0->ultralytics) (3.2.1)\n",
            "Requirement already satisfied: python-dateutil>=2.7 in /usr/local/lib/python3.11/dist-packages (from matplotlib>=3.3.0->ultralytics) (2.8.2)\n",
            "Requirement already satisfied: pytz>=2020.1 in /usr/local/lib/python3.11/dist-packages (from pandas>=1.1.4->ultralytics) (2024.2)\n",
            "Requirement already satisfied: tzdata>=2022.7 in /usr/local/lib/python3.11/dist-packages (from pandas>=1.1.4->ultralytics) (2024.2)\n",
            "Requirement already satisfied: charset-normalizer<4,>=2 in /usr/local/lib/python3.11/dist-packages (from requests>=2.23.0->ultralytics) (3.4.1)\n",
            "Requirement already satisfied: idna<4,>=2.5 in /usr/local/lib/python3.11/dist-packages (from requests>=2.23.0->ultralytics) (3.10)\n",
            "Requirement already satisfied: urllib3<3,>=1.21.1 in /usr/local/lib/python3.11/dist-packages (from requests>=2.23.0->ultralytics) (2.3.0)\n",
            "Requirement already satisfied: certifi>=2017.4.17 in /usr/local/lib/python3.11/dist-packages (from requests>=2.23.0->ultralytics) (2024.12.14)\n",
            "Requirement already satisfied: filelock in /usr/local/lib/python3.11/dist-packages (from torch>=1.8.0->ultralytics) (3.16.1)\n",
            "Requirement already satisfied: typing-extensions>=4.8.0 in /usr/local/lib/python3.11/dist-packages (from torch>=1.8.0->ultralytics) (4.12.2)\n",
            "Requirement already satisfied: networkx in /usr/local/lib/python3.11/dist-packages (from torch>=1.8.0->ultralytics) (3.4.2)\n",
            "Requirement already satisfied: jinja2 in /usr/local/lib/python3.11/dist-packages (from torch>=1.8.0->ultralytics) (3.1.5)\n",
            "Requirement already satisfied: fsspec in /usr/local/lib/python3.11/dist-packages (from torch>=1.8.0->ultralytics) (2024.10.0)\n",
            "Requirement already satisfied: nvidia-cuda-nvrtc-cu12==12.1.105 in /usr/local/lib/python3.11/dist-packages (from torch>=1.8.0->ultralytics) (12.1.105)\n",
            "Requirement already satisfied: nvidia-cuda-runtime-cu12==12.1.105 in /usr/local/lib/python3.11/dist-packages (from torch>=1.8.0->ultralytics) (12.1.105)\n",
            "Requirement already satisfied: nvidia-cuda-cupti-cu12==12.1.105 in /usr/local/lib/python3.11/dist-packages (from torch>=1.8.0->ultralytics) (12.1.105)\n",
            "Requirement already satisfied: nvidia-cudnn-cu12==9.1.0.70 in /usr/local/lib/python3.11/dist-packages (from torch>=1.8.0->ultralytics) (9.1.0.70)\n",
            "Requirement already satisfied: nvidia-cublas-cu12==12.1.3.1 in /usr/local/lib/python3.11/dist-packages (from torch>=1.8.0->ultralytics) (12.1.3.1)\n",
            "Requirement already satisfied: nvidia-cufft-cu12==11.0.2.54 in /usr/local/lib/python3.11/dist-packages (from torch>=1.8.0->ultralytics) (11.0.2.54)\n",
            "Requirement already satisfied: nvidia-curand-cu12==10.3.2.106 in /usr/local/lib/python3.11/dist-packages (from torch>=1.8.0->ultralytics) (10.3.2.106)\n",
            "Requirement already satisfied: nvidia-cusolver-cu12==11.4.5.107 in /usr/local/lib/python3.11/dist-packages (from torch>=1.8.0->ultralytics) (11.4.5.107)\n",
            "Requirement already satisfied: nvidia-cusparse-cu12==12.1.0.106 in /usr/local/lib/python3.11/dist-packages (from torch>=1.8.0->ultralytics) (12.1.0.106)\n",
            "Requirement already satisfied: nvidia-nccl-cu12==2.21.5 in /usr/local/lib/python3.11/dist-packages (from torch>=1.8.0->ultralytics) (2.21.5)\n",
            "Requirement already satisfied: nvidia-nvtx-cu12==12.1.105 in /usr/local/lib/python3.11/dist-packages (from torch>=1.8.0->ultralytics) (12.1.105)\n",
            "Requirement already satisfied: triton==3.1.0 in /usr/local/lib/python3.11/dist-packages (from torch>=1.8.0->ultralytics) (3.1.0)\n",
            "Requirement already satisfied: sympy==1.13.1 in /usr/local/lib/python3.11/dist-packages (from torch>=1.8.0->ultralytics) (1.13.1)\n",
            "Requirement already satisfied: nvidia-nvjitlink-cu12 in /usr/local/lib/python3.11/dist-packages (from nvidia-cusolver-cu12==11.4.5.107->torch>=1.8.0->ultralytics) (12.6.85)\n",
            "Requirement already satisfied: mpmath<1.4,>=1.1.0 in /usr/local/lib/python3.11/dist-packages (from sympy==1.13.1->torch>=1.8.0->ultralytics) (1.3.0)\n",
            "Requirement already satisfied: six>=1.5 in /usr/local/lib/python3.11/dist-packages (from python-dateutil>=2.7->matplotlib>=3.3.0->ultralytics) (1.17.0)\n",
            "Requirement already satisfied: MarkupSafe>=2.0 in /usr/local/lib/python3.11/dist-packages (from jinja2->torch>=1.8.0->ultralytics) (3.0.2)\n",
            "Downloading ultralytics-8.3.65-py3-none-any.whl (911 kB)\n",
            "\u001b[2K   \u001b[90m━━━━━━━━━━━━━━━━━━━━━━━━━━━━━━━━━━━━━━━━\u001b[0m \u001b[32m911.6/911.6 kB\u001b[0m \u001b[31m22.4 MB/s\u001b[0m eta \u001b[36m0:00:00\u001b[0m\n",
            "\u001b[?25hDownloading ultralytics_thop-2.0.14-py3-none-any.whl (26 kB)\n",
            "Installing collected packages: ultralytics-thop, ultralytics\n",
            "Successfully installed ultralytics-8.3.65 ultralytics-thop-2.0.14\n"
          ]
        }
      ]
    },
    {
      "cell_type": "code",
      "source": [
        "import os\n",
        "\n",
        "def clean_labels(label_dir, valid_classes):\n",
        "    for label_file in os.listdir(label_dir):\n",
        "        label_path = os.path.join(label_dir, label_file)\n",
        "        with open(label_path, 'r') as f:\n",
        "            lines = f.readlines()\n",
        "        cleaned_lines = [line for line in lines if int(line.split()[0]) in valid_classes]\n",
        "        if cleaned_lines:\n",
        "            with open(label_path, 'w') as f:\n",
        "                f.writelines(cleaned_lines)\n",
        "        else:\n",
        "\n",
        "            os.remove(label_path)\n",
        "\n",
        "# Define paths\n",
        "train_label_dir = \"/content/Merged_Dataset/train/labels\"\n",
        "val_label_dir = \"/content/Merged_Dataset/val/labels\"\n",
        "test_label_dir = \"/content/Merged_Dataset/test/labels\"\n",
        "\n",
        "# Clean label directories\n",
        "for label_dir in [train_label_dir, val_label_dir, test_label_dir]:\n",
        "    clean_labels(label_dir, valid_classes={0, 1, 2, 3})\n",
        "\n",
        "print(\"Label cleaning complete!\")\n"
      ],
      "metadata": {
        "colab": {
          "base_uri": "https://localhost:8080/"
        },
        "id": "IQyVymMp4eJb",
        "outputId": "d048555e-c1f8-4e3c-b444-866b66b0ffe7"
      },
      "execution_count": null,
      "outputs": [
        {
          "output_type": "stream",
          "name": "stdout",
          "text": [
            "Label cleaning complete!\n"
          ]
        }
      ]
    },
    {
      "cell_type": "code",
      "source": [
        "from PIL import Image\n",
        "\n",
        "def validate_images(image_dir):\n",
        "    for image_file in os.listdir(image_dir):\n",
        "        image_path = os.path.join(image_dir, image_file)\n",
        "        try:\n",
        "            with Image.open(image_path) as img:\n",
        "                img.verify()  # Verify if the image is not corrupted\n",
        "        except Exception:\n",
        "            print(f\"Removing corrupted image: {image_path}\")\n",
        "            os.remove(image_path)\n",
        "\n",
        "# Validate image directories\n",
        "for image_dir in [\"/content/Merged_Dataset/train/images\", \"/content/Merged_Dataset/val/images\", \"/content/Merged_Dataset/test/images\"]:\n",
        "    validate_images(image_dir)\n",
        "\n",
        "print(\"Image validation complete!\")\n"
      ],
      "metadata": {
        "colab": {
          "base_uri": "https://localhost:8080/"
        },
        "id": "eyDUxTbO5m7E",
        "outputId": "08b8f6fe-7011-4058-8dfb-096adcf18e54"
      },
      "execution_count": null,
      "outputs": [
        {
          "output_type": "stream",
          "name": "stdout",
          "text": [
            "Image validation complete!\n"
          ]
        }
      ]
    },
    {
      "cell_type": "code",
      "source": [
        "import os\n",
        "\n",
        "val_images_path = '/content/Merged_Dataset/val/images'\n",
        "val_labels_path = '/content/Merged_Dataset/val/labels'\n",
        "\n",
        "assert os.path.exists(val_images_path), \"Validation images path does not exist!\"\n",
        "assert os.path.exists(val_labels_path), \"Validation labels path does not exist!\"\n",
        "\n",
        "image_files = [f for f in os.listdir(val_images_path) if f.endswith(('jpg', 'jpeg', 'png', 'bmp', 'tiff'))]\n",
        "label_files = [f for f in os.listdir(val_labels_path) if f.endswith('.txt')]\n",
        "\n",
        "print(f\"Found {len(image_files)} validation images.\")\n",
        "print(f\"Found {len(label_files)} validation labels.\")\n"
      ],
      "metadata": {
        "colab": {
          "base_uri": "https://localhost:8080/"
        },
        "id": "eU4bywRe4v6Y",
        "outputId": "30b6bf6f-f82a-42f5-9303-23d0ae2faae8"
      },
      "execution_count": null,
      "outputs": [
        {
          "output_type": "stream",
          "name": "stdout",
          "text": [
            "Found 0 validation images.\n",
            "Found 0 validation labels.\n"
          ]
        }
      ]
    },
    {
      "cell_type": "code",
      "source": [
        "import os\n",
        "\n",
        "dataset_path = '/content/Merged_Dataset'\n",
        "print(f\"Available directories: {os.listdir(dataset_path)}\")\n"
      ],
      "metadata": {
        "colab": {
          "base_uri": "https://localhost:8080/"
        },
        "id": "dTzOqtEr6cQ8",
        "outputId": "4dbedfe1-d233-46e9-bc1a-009c8c93280e"
      },
      "execution_count": null,
      "outputs": [
        {
          "output_type": "stream",
          "name": "stdout",
          "text": [
            "Available directories: ['data.yaml', 'test', 'val', 'train']\n"
          ]
        }
      ]
    },
    {
      "cell_type": "code",
      "source": [
        "import os\n",
        "\n",
        "# Define paths based on your structure\n",
        "base_path = '/content/Merged_Dataset'\n",
        "train_images_path = os.path.join(base_path, 'train', 'images')\n",
        "train_labels_path = os.path.join(base_path, 'train', 'labels')\n",
        "val_images_path = os.path.join(base_path, 'val', 'images')\n",
        "val_labels_path = os.path.join(base_path, 'val', 'labels')\n",
        "\n",
        "# Check files\n",
        "train_images = sorted([f for f in os.listdir(train_images_path) if f.endswith(('jpg', 'jpeg', 'png'))])\n",
        "train_labels = sorted([f for f in os.listdir(train_labels_path) if f.endswith('.txt')])\n",
        "\n",
        "val_images = sorted([f for f in os.listdir(val_images_path) if f.endswith(('jpg', 'jpeg', 'png'))])\n",
        "val_labels = sorted([f for f in os.listdir(val_labels_path) if f.endswith('.txt')])\n",
        "\n",
        "print(f\"Training images: {len(train_images)}\")\n",
        "print(f\"Training labels: {len(train_labels)}\")\n",
        "print(f\"Validation images: {len(val_images)}\")\n",
        "print(f\"Validation labels: {len(val_labels)}\")\n"
      ],
      "metadata": {
        "colab": {
          "base_uri": "https://localhost:8080/"
        },
        "id": "0JchjKJh622v",
        "outputId": "ae570099-954e-4e1d-8244-7746a166c192"
      },
      "execution_count": null,
      "outputs": [
        {
          "output_type": "stream",
          "name": "stdout",
          "text": [
            "Training images: 2796\n",
            "Training labels: 2796\n",
            "Validation images: 0\n",
            "Validation labels: 0\n"
          ]
        }
      ]
    },
    {
      "cell_type": "code",
      "source": [
        "val_images = sorted([f for f in os.listdir(val_images_path) if f.endswith(('jpg', 'jpeg', 'png'))])\n",
        "val_labels = sorted([f for f in os.listdir(val_labels_path) if f.endswith('.txt')])\n",
        "\n",
        "print(f\"Validation images: {len(val_images)}\")\n",
        "print(f\"Validation labels: {len(val_labels)}\")\n"
      ],
      "metadata": {
        "colab": {
          "base_uri": "https://localhost:8080/"
        },
        "id": "0_q_LFPa7FZc",
        "outputId": "ff986bb5-4fa4-433d-ed23-b0a853113918"
      },
      "execution_count": null,
      "outputs": [
        {
          "output_type": "stream",
          "name": "stdout",
          "text": [
            "Validation images: 0\n",
            "Validation labels: 0\n"
          ]
        }
      ]
    }
  ]
}